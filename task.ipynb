{
 "cells": [
  {
   "cell_type": "code",
   "execution_count": 1,
   "id": "74ff50a3",
   "metadata": {},
   "outputs": [
    {
     "name": "stdout",
     "output_type": "stream",
     "text": [
      "[0, 1, 1, 2, 3, 5]\n"
     ]
    }
   ],
   "source": [
    "a,b=0,1\n",
    "c=[]\n",
    "def fib(cn):\n",
    "    for i in range(cn):\n",
    "        global a,b\n",
    "        c.append(a)\n",
    "        temp = a+b\n",
    "        a=b\n",
    "        b=temp\n",
    "        \n",
    "    print(c)\n",
    "\n",
    "fib(6)"
   ]
  },
  {
   "cell_type": "code",
   "execution_count": 3,
   "id": "32f16683",
   "metadata": {},
   "outputs": [
    {
     "name": "stdout",
     "output_type": "stream",
     "text": [
      "8\n"
     ]
    }
   ],
   "source": [
    "a=\"hello this is me aakash\"\n",
    "a = a.lower()\n",
    "num=0\n",
    "vov= 'a','e','i','o','u'\n",
    "for i in a:\n",
    "    if i in vov:\n",
    "        num += 1\n",
    "            \n",
    "print(num)"
   ]
  },
  {
   "cell_type": "code",
   "execution_count": null,
   "id": "51cd401e",
   "metadata": {},
   "outputs": [
    {
     "name": "stdout",
     "output_type": "stream",
     "text": [
      "world\n"
     ]
    }
   ],
   "source": [
    "s='World war'\n",
    "s=s.lower()\n",
    "words = s.split()\n",
    "def repl(old):\n",
    "    a=[]\n",
    "    for i in words:\n",
    "        if i != old:\n",
    "            a.append(i)\n",
    "    c=' '.join(a)\n",
    "    print(c)\n",
    "\n",
    "repl('war')"
   ]
  },
  {
   "cell_type": "code",
   "execution_count": null,
   "id": "579e1607",
   "metadata": {},
   "outputs": [],
   "source": [
    "def fib_seq(n):\n",
    "    for i in range(n):\n",
    "        print(fibb(i))\n",
    "\n",
    "\n",
    "\n",
    "def fibb(n):\n",
    "    if n==0: return 0\n",
    "    if n==1: return 1\n",
    "    return fibb(n-1) + fibb(n-2)\n",
    "\n",
    "fib_seq(7)"
   ]
  },
  {
   "cell_type": "code",
   "execution_count": 1,
   "id": "aa15a5b7",
   "metadata": {},
   "outputs": [
    {
     "name": "stdout",
     "output_type": "stream",
     "text": [
      "Filtered data written to filtered_products.csv\n"
     ]
    }
   ],
   "source": [
    "import json\n",
    "import csv\n",
    "\n",
    "# Step 1: Load JSON\n",
    "with open(\"data.json\", \"r\", encoding=\"utf-8\") as f:\n",
    "    data = json.load(f)\n",
    "\n",
    "# Step 2: Flatten\n",
    "flattened_data = []\n",
    "for item in data:\n",
    "    flat_item = {\n",
    "        \"id\": item[\"id\"],\n",
    "        \"title\": item[\"title\"],\n",
    "        \"price\": item[\"price\"],\n",
    "        \"description\": item[\"description\"],\n",
    "        \"category\": item[\"category\"],\n",
    "        \"image\": item[\"image\"],\n",
    "        \"rating_rate\": item[\"rating\"][\"rate\"],\n",
    "        \"rating_count\": item[\"rating\"][\"count\"]\n",
    "    }\n",
    "    flattened_data.append(flat_item)\n",
    "\n",
    "# Step 3: Filter (Example: Only electronics)\n",
    "filtered_data = [item for item in flattened_data if item[\"category\"] == \"electronics\"]\n",
    "\n",
    "# Step 4: Write to CSV\n",
    "with open(\"filtered_products.csv\", \"w\", newline=\"\", encoding=\"utf-8\") as f:\n",
    "    writer = csv.DictWriter(f, fieldnames=flattened_data[0].keys())\n",
    "    writer.writeheader()\n",
    "    writer.writerows(filtered_data)\n",
    "\n",
    "print(\"Filtered data written to filtered_products.csv\")\n"
   ]
  }
 ],
 "metadata": {
  "kernelspec": {
   "display_name": "Python 3",
   "language": "python",
   "name": "python3"
  },
  "language_info": {
   "codemirror_mode": {
    "name": "ipython",
    "version": 3
   },
   "file_extension": ".py",
   "mimetype": "text/x-python",
   "name": "python",
   "nbconvert_exporter": "python",
   "pygments_lexer": "ipython3",
   "version": "3.12.5"
  }
 },
 "nbformat": 4,
 "nbformat_minor": 5
}
