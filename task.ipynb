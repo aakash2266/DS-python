{
 "cells": [
  {
   "cell_type": "code",
   "execution_count": 1,
   "id": "74ff50a3",
   "metadata": {},
   "outputs": [
    {
     "name": "stdout",
     "output_type": "stream",
     "text": [
      "[0, 1, 1, 2, 3, 5]\n"
     ]
    }
   ],
   "source": [
    "a,b=0,1\n",
    "c=[]\n",
    "def fib(cn):\n",
    "    for i in range(cn):\n",
    "        global a,b\n",
    "        c.append(a)\n",
    "        temp = a+b\n",
    "        a=b\n",
    "        b=temp\n",
    "        \n",
    "    print(c)\n",
    "\n",
    "fib(6)"
   ]
  },
  {
   "cell_type": "code",
   "execution_count": 3,
   "id": "32f16683",
   "metadata": {},
   "outputs": [
    {
     "name": "stdout",
     "output_type": "stream",
     "text": [
      "8\n"
     ]
    }
   ],
   "source": [
    "a=\"hello this is me aakash\"\n",
    "a = a.lower()\n",
    "num=0\n",
    "vov= 'a','e','i','o','u'\n",
    "for i in a:\n",
    "    if i in vov:\n",
    "        num += 1\n",
    "            \n",
    "print(num)"
   ]
  },
  {
   "cell_type": "code",
   "execution_count": null,
   "id": "51cd401e",
   "metadata": {},
   "outputs": [
    {
     "name": "stdout",
     "output_type": "stream",
     "text": [
      "world\n"
     ]
    }
   ],
   "source": [
    "s='World war'\n",
    "s=s.lower()\n",
    "words = s.split()\n",
    "def repl(old):\n",
    "    a=[]\n",
    "    for i in words:\n",
    "        if i != old:\n",
    "            a.append(i)\n",
    "    c=' '.join(a)\n",
    "    print(c)\n",
    "\n",
    "repl('war')"
   ]
  },
  {
   "cell_type": "code",
   "execution_count": null,
   "id": "579e1607",
   "metadata": {},
   "outputs": [],
   "source": [
    "def fib_seq(n):\n",
    "    for i in range(n):\n",
    "        print(fibb(i))\n",
    "\n",
    "\n",
    "\n",
    "def fibb(n):\n",
    "    if n==0: return 0\n",
    "    if n==1: return 1\n",
    "    return fibb(n-1) + fibb(n-2)\n",
    "\n",
    "fib_seq(7)"
   ]
  }
 ],
 "metadata": {
  "kernelspec": {
   "display_name": "Python 3",
   "language": "python",
   "name": "python3"
  },
  "language_info": {
   "codemirror_mode": {
    "name": "ipython",
    "version": 3
   },
   "file_extension": ".py",
   "mimetype": "text/x-python",
   "name": "python",
   "nbconvert_exporter": "python",
   "pygments_lexer": "ipython3",
   "version": "3.12.5"
  }
 },
 "nbformat": 4,
 "nbformat_minor": 5
}
